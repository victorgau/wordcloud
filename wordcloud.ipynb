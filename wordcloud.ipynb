{
  "nbformat": 4,
  "nbformat_minor": 0,
  "metadata": {
    "colab": {
      "name": "wordcloud.ipynb",
      "provenance": [],
      "collapsed_sections": []
    },
    "kernelspec": {
      "name": "python3",
      "display_name": "Python 3"
    }
  },
  "cells": [
    {
      "cell_type": "code",
      "metadata": {
        "id": "py8KmRxJxhv4",
        "colab_type": "code",
        "colab": {}
      },
      "source": [
        "!pip install -q wordcloud\n",
        "!pip install -q jieba"
      ],
      "execution_count": 0,
      "outputs": []
    },
    {
      "cell_type": "code",
      "metadata": {
        "id": "CeUnuZ8SBax5",
        "colab_type": "code",
        "colab": {}
      },
      "source": [
        "!wget https://raw.githubusercontent.com/victorgau/wordcloud/master/dict.txt.big -o /dev/null\n",
        "!wget https://raw.githubusercontent.com/victorgau/wordcloud/master/SourceHanSansTW-Regular.otf -o /dev/null"
      ],
      "execution_count": 0,
      "outputs": []
    },
    {
      "cell_type": "code",
      "metadata": {
        "id": "cnEvcihLxSz9",
        "colab_type": "code",
        "colab": {}
      },
      "source": [
        "%matplotlib inline\n",
        "import matplotlib.pyplot as plt\n",
        "from wordcloud import WordCloud\n",
        "import jieba"
      ],
      "execution_count": 0,
      "outputs": []
    },
    {
      "cell_type": "code",
      "metadata": {
        "id": "t15OO12BxaB1",
        "colab_type": "code",
        "colab": {}
      },
      "source": [
        "# 如果檔案內有一些編碼錯誤，使用 errors='ignore' 來忽略錯誤\n",
        "with open(\"107.csv\", encoding=\"big5\", errors='ignore') as f:\n",
        "    text = f.read()\n",
        "\n",
        "# 設定使用 big5 斷詞\n",
        "jieba.set_dictionary('dict.txt.big')\n",
        "wordlist = jieba.cut(text)\n",
        "words = \" \".join(wordlist)\n",
        "\n",
        "# 從 Google 下載的中文字型\n",
        "font = 'SourceHanSansTW-Regular.otf'\n",
        "my_wordcloud = WordCloud(font_path=font).generate(words)\n",
        "\n",
        "plt.imshow(my_wordcloud)\n",
        "plt.axis(\"off\")\n",
        "plt.show()"
      ],
      "execution_count": 0,
      "outputs": []
    }
  ]
}